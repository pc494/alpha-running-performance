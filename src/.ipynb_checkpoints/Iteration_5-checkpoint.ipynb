{
 "cells": [
  {
   "cell_type": "code",
   "execution_count": 185,
   "metadata": {},
   "outputs": [],
   "source": [
    "import pandas as pd\n",
    "from matplotlib import pyplot as plt\n",
    "import numpy as np\n",
    "from scipy.stats import linregress"
   ]
  },
  {
   "cell_type": "code",
   "execution_count": 186,
   "metadata": {},
   "outputs": [],
   "source": [
    "national_18 = pd.read_csv('../data/National_XC_2018.csv')\n",
    "national_19 = pd.read_csv('../data/National_XC_2019.csv')\n",
    "national_20 = pd.read_csv('../data/National_XC_2020.csv')\n",
    "MK_21 = pd.read_csv('../data/MK_2021.csv')\n",
    "liverpool_21 = pd.read_csv('../data/Liverpool_2021.csv')"
   ]
  },
  {
   "cell_type": "code",
   "execution_count": 187,
   "metadata": {},
   "outputs": [],
   "source": [
    "national_18 = national_18.drop(columns='raw_time')\n",
    "national_19 = national_19.drop(columns='raw_time')\n",
    "national_20 = national_20.drop(columns='raw_time')\n",
    "MK_21 = MK_21.drop(columns='raw_time')\n",
    "liverpool_21 = liverpool_21.drop(columns='raw_time')\n",
    "complete =  pd.merge(national_18,national_19,how='outer',on='raw_name',suffixes=('_na18','_na19'))\n",
    "complete =  pd.merge(complete,national_20,how='outer',on='raw_name')\n",
    "complete.rename(columns = {'position':'position_na20'}, inplace = True)\n",
    "complete =  pd.merge(complete,MK_21,how='outer',on='raw_name')\n",
    "complete.rename(columns = {'position':'position_mk21'}, inplace = True)\n",
    "complete =  pd.merge(complete,liverpool_21,how='outer',on='raw_name')\n",
    "complete.rename(columns = {'position':'position_li21'}, inplace = True)"
   ]
  },
  {
   "cell_type": "code",
   "execution_count": 188,
   "metadata": {},
   "outputs": [
    {
     "data": {
      "text/html": [
       "<div>\n",
       "<style scoped>\n",
       "    .dataframe tbody tr th:only-of-type {\n",
       "        vertical-align: middle;\n",
       "    }\n",
       "\n",
       "    .dataframe tbody tr th {\n",
       "        vertical-align: top;\n",
       "    }\n",
       "\n",
       "    .dataframe thead th {\n",
       "        text-align: right;\n",
       "    }\n",
       "</style>\n",
       "<table border=\"1\" class=\"dataframe\">\n",
       "  <thead>\n",
       "    <tr style=\"text-align: right;\">\n",
       "      <th></th>\n",
       "      <th>raw_name</th>\n",
       "      <th>position_na18</th>\n",
       "      <th>position_na19</th>\n",
       "      <th>position_na20</th>\n",
       "      <th>position_mk21</th>\n",
       "      <th>position_li21</th>\n",
       "    </tr>\n",
       "  </thead>\n",
       "  <tbody>\n",
       "    <tr>\n",
       "      <th>0</th>\n",
       "      <td>Adam Hickey</td>\n",
       "      <td>1.0</td>\n",
       "      <td>5.0</td>\n",
       "      <td>4.0</td>\n",
       "      <td>NaN</td>\n",
       "      <td>NaN</td>\n",
       "    </tr>\n",
       "    <tr>\n",
       "      <th>1</th>\n",
       "      <td>Andy Coley-Maud</td>\n",
       "      <td>2.0</td>\n",
       "      <td>NaN</td>\n",
       "      <td>NaN</td>\n",
       "      <td>NaN</td>\n",
       "      <td>NaN</td>\n",
       "    </tr>\n",
       "    <tr>\n",
       "      <th>2</th>\n",
       "      <td>John Gilbert</td>\n",
       "      <td>3.0</td>\n",
       "      <td>NaN</td>\n",
       "      <td>15.0</td>\n",
       "      <td>NaN</td>\n",
       "      <td>NaN</td>\n",
       "    </tr>\n",
       "  </tbody>\n",
       "</table>\n",
       "</div>"
      ],
      "text/plain": [
       "          raw_name  position_na18  position_na19  position_na20  \\\n",
       "0      Adam Hickey            1.0            5.0            4.0   \n",
       "1  Andy Coley-Maud            2.0            NaN            NaN   \n",
       "2     John Gilbert            3.0            NaN           15.0   \n",
       "\n",
       "   position_mk21  position_li21  \n",
       "0            NaN            NaN  \n",
       "1            NaN            NaN  \n",
       "2            NaN            NaN  "
      ]
     },
     "execution_count": 188,
     "metadata": {},
     "output_type": "execute_result"
    }
   ],
   "source": [
    "raw_name = complete.pop('raw_name')\n",
    "complete.insert(0,\"raw_name\",raw_name)\n",
    "complete.head(3)"
   ]
  },
  {
   "cell_type": "code",
   "execution_count": 189,
   "metadata": {},
   "outputs": [],
   "source": [
    "# initialize ratings\n",
    "complete['rating'] =  2500 - (complete.position_na18 - 1) * 5\n",
    "complete[\"rating_na18\"] = complete.rating\n",
    "complete = complete.drop(columns='position_na18')"
   ]
  },
  {
   "cell_type": "code",
   "execution_count": 193,
   "metadata": {},
   "outputs": [],
   "source": [
    "def get_rating(df,input_data_col,new_result_col):\n",
    "    df_overlap = df[~df[input_data_col].isnull()&~df[new_result_col].isnull()]\n",
    "    plt.scatter(df_overlap[input_data_col],df_overlap[new_result_col])\n",
    "    \n",
    "    sol = linregress(df_overlap[input_data_col],df_overlap[new_result_col])\n",
    "    m = sol.slope\n",
    "    c = sol.intercept\n",
    "    space_min = df_overlap[input_data_col].min()-100\n",
    "    space_max = df_overlap[input_data_col].max()+100\n",
    "    plt.plot(np.linspace(space_min,space_max),np.linspace(space_min,space_max)*m+c)\n",
    "    #print(df[new_result_col])\n",
    "    return ((df[new_result_col])-c)/m"
   ]
  },
  {
   "cell_type": "code",
   "execution_count": 194,
   "metadata": {},
   "outputs": [
    {
     "data": {
      "image/png": "[encoded data removed]",
      "text/plain": [
       "<Figure size 432x288 with 1 Axes>"
      ]
     },
     "metadata": {
      "needs_background": "light"
     },
     "output_type": "display_data"
    }
   ],
   "source": [
    "complete['rating_na19'] = get_rating(complete,'rating','position_na19')\n",
    "complete = complete.assign(rating=complete.loc[:, ['rating','rating_na19']].mean(axis=1))\n",
    "complete = complete.drop(columns='position_na19')"
   ]
  },
  {
   "cell_type": "code",
   "execution_count": 195,
   "metadata": {},
   "outputs": [
    {
     "data": {
      "text/html": [
       "<div>\n",
       "<style scoped>\n",
       "    .dataframe tbody tr th:only-of-type {\n",
       "        vertical-align: middle;\n",
       "    }\n",
       "\n",
       "    .dataframe tbody tr th {\n",
       "        vertical-align: top;\n",
       "    }\n",
       "\n",
       "    .dataframe thead th {\n",
       "        text-align: right;\n",
       "    }\n",
       "</style>\n",
       "<table border=\"1\" class=\"dataframe\">\n",
       "  <thead>\n",
       "    <tr style=\"text-align: right;\">\n",
       "      <th></th>\n",
       "      <th>raw_name</th>\n",
       "      <th>position_na20</th>\n",
       "      <th>position_mk21</th>\n",
       "      <th>position_li21</th>\n",
       "      <th>rating</th>\n",
       "      <th>rating_na18</th>\n",
       "      <th>rating_na19</th>\n",
       "      <th>rating_na20</th>\n",
       "    </tr>\n",
       "  </thead>\n",
       "  <tbody>\n",
       "    <tr>\n",
       "      <th>406</th>\n",
       "      <td>Liam Dee</td>\n",
       "      <td>18.0</td>\n",
       "      <td>NaN</td>\n",
       "      <td>30.0</td>\n",
       "      <td>NaN</td>\n",
       "      <td>NaN</td>\n",
       "      <td>NaN</td>\n",
       "      <td>2816.164571</td>\n",
       "    </tr>\n",
       "  </tbody>\n",
       "</table>\n",
       "</div>"
      ],
      "text/plain": [
       "     raw_name  position_na20  position_mk21  position_li21  rating  \\\n",
       "406  Liam Dee           18.0            NaN           30.0     NaN   \n",
       "\n",
       "     rating_na18  rating_na19  rating_na20  \n",
       "406          NaN          NaN  2816.164571  "
      ]
     },
     "execution_count": 195,
     "metadata": {},
     "output_type": "execute_result"
    },
    {
     "data": {
      "image/png": "[encoded data removed]",
      "text/plain": [
       "<Figure size 432x288 with 1 Axes>"
      ]
     },
     "metadata": {
      "needs_background": "light"
     },
     "output_type": "display_data"
    }
   ],
   "source": [
    "complete['rating_na20'] = get_rating(complete,'rating','position_na20')\n",
    "complete[complete.raw_name=='Liam Dee']"
   ]
  },
  {
   "cell_type": "code",
   "execution_count": 196,
   "metadata": {},
   "outputs": [],
   "source": [
    "complete = complete.assign(rating=complete.loc[:, ['rating','rating_na20']].mean(axis=1))\n",
    "complete = complete.drop(columns='position_na20')"
   ]
  },
  {
   "cell_type": "code",
   "execution_count": 197,
   "metadata": {},
   "outputs": [
    {
     "data": {
      "text/html": [
       "<div>\n",
       "<style scoped>\n",
       "    .dataframe tbody tr th:only-of-type {\n",
       "        vertical-align: middle;\n",
       "    }\n",
       "\n",
       "    .dataframe tbody tr th {\n",
       "        vertical-align: top;\n",
       "    }\n",
       "\n",
       "    .dataframe thead th {\n",
       "        text-align: right;\n",
       "    }\n",
       "</style>\n",
       "<table border=\"1\" class=\"dataframe\">\n",
       "  <thead>\n",
       "    <tr style=\"text-align: right;\">\n",
       "      <th></th>\n",
       "      <th>raw_name</th>\n",
       "      <th>position_mk21</th>\n",
       "      <th>position_li21</th>\n",
       "      <th>rating</th>\n",
       "      <th>rating_na18</th>\n",
       "      <th>rating_na19</th>\n",
       "      <th>rating_na20</th>\n",
       "    </tr>\n",
       "  </thead>\n",
       "  <tbody>\n",
       "    <tr>\n",
       "      <th>406</th>\n",
       "      <td>Liam Dee</td>\n",
       "      <td>NaN</td>\n",
       "      <td>30.0</td>\n",
       "      <td>2816.164571</td>\n",
       "      <td>NaN</td>\n",
       "      <td>NaN</td>\n",
       "      <td>2816.164571</td>\n",
       "    </tr>\n",
       "  </tbody>\n",
       "</table>\n",
       "</div>"
      ],
      "text/plain": [
       "     raw_name  position_mk21  position_li21       rating  rating_na18  \\\n",
       "406  Liam Dee            NaN           30.0  2816.164571          NaN   \n",
       "\n",
       "     rating_na19  rating_na20  \n",
       "406          NaN  2816.164571  "
      ]
     },
     "execution_count": 197,
     "metadata": {},
     "output_type": "execute_result"
    }
   ],
   "source": [
    "complete[complete.raw_name=='Liam Dee']"
   ]
  },
  {
   "cell_type": "code",
   "execution_count": 198,
   "metadata": {},
   "outputs": [
    {
     "data": {
      "image/png": "[encoded data removed]",
      "text/plain": [
       "<Figure size 432x288 with 1 Axes>"
      ]
     },
     "metadata": {
      "needs_background": "light"
     },
     "output_type": "display_data"
    }
   ],
   "source": [
    "sfx = 'mk21'\n",
    "complete['rating_'+sfx] = get_rating(complete,'rating','position_'+sfx)\n",
    "complete = complete.assign(rating=complete.loc[:, ['rating','rating_'+sfx]].mean(axis=1))\n",
    "complete = complete.drop(columns='position_'+sfx)"
   ]
  },
  {
   "cell_type": "code",
   "execution_count": 200,
   "metadata": {},
   "outputs": [],
   "source": [
    "def update_with_suffix(complete,sfx):\n",
    "    complete['rating_'+sfx] = get_rating(complete,'rating','position_'+sfx)\n",
    "    complete = complete.assign(rating=complete.loc[:, ['rating','rating_'+sfx]].mean(axis=1))\n",
    "    complete = complete.drop(columns='position_'+sfx)\n",
    "    return complete"
   ]
  },
  {
   "cell_type": "code",
   "execution_count": 201,
   "metadata": {},
   "outputs": [
    {
     "data": {
      "image/png": "[encoded data removed]",
      "text/plain": [
       "<Figure size 432x288 with 1 Axes>"
      ]
     },
     "metadata": {
      "needs_background": "light"
     },
     "output_type": "display_data"
    }
   ],
   "source": [
    "complete = update_with_suffix(complete,'li21')"
   ]
  },
  {
   "cell_type": "code",
   "execution_count": 211,
   "metadata": {},
   "outputs": [
    {
     "data": {
      "text/html": [
       "<div>\n",
       "<style scoped>\n",
       "    .dataframe tbody tr th:only-of-type {\n",
       "        vertical-align: middle;\n",
       "    }\n",
       "\n",
       "    .dataframe tbody tr th {\n",
       "        vertical-align: top;\n",
       "    }\n",
       "\n",
       "    .dataframe thead th {\n",
       "        text-align: right;\n",
       "    }\n",
       "</style>\n",
       "<table border=\"1\" class=\"dataframe\">\n",
       "  <thead>\n",
       "    <tr style=\"text-align: right;\">\n",
       "      <th></th>\n",
       "      <th>raw_name</th>\n",
       "      <th>rating</th>\n",
       "    </tr>\n",
       "  </thead>\n",
       "  <tbody>\n",
       "    <tr>\n",
       "      <th>598</th>\n",
       "      <td>Jack Rowe</td>\n",
       "      <td>4345.03</td>\n",
       "    </tr>\n",
       "    <tr>\n",
       "      <th>599</th>\n",
       "      <td>Andrew Butchart</td>\n",
       "      <td>4311.46</td>\n",
       "    </tr>\n",
       "    <tr>\n",
       "      <th>600</th>\n",
       "      <td>Jamie Crowe</td>\n",
       "      <td>4277.90</td>\n",
       "    </tr>\n",
       "    <tr>\n",
       "      <th>601</th>\n",
       "      <td>Tom Mortimer</td>\n",
       "      <td>4244.34</td>\n",
       "    </tr>\n",
       "    <tr>\n",
       "      <th>602</th>\n",
       "      <td>William Battershill</td>\n",
       "      <td>4210.77</td>\n",
       "    </tr>\n",
       "    <tr>\n",
       "      <th>603</th>\n",
       "      <td>Stuart McCallum</td>\n",
       "      <td>4177.21</td>\n",
       "    </tr>\n",
       "    <tr>\n",
       "      <th>604</th>\n",
       "      <td>Jake Smith</td>\n",
       "      <td>4143.64</td>\n",
       "    </tr>\n",
       "    <tr>\n",
       "      <th>605</th>\n",
       "      <td>Rory Leonard</td>\n",
       "      <td>4042.95</td>\n",
       "    </tr>\n",
       "    <tr>\n",
       "      <th>606</th>\n",
       "      <td>Tom Anderson</td>\n",
       "      <td>4009.38</td>\n",
       "    </tr>\n",
       "    <tr>\n",
       "      <th>518</th>\n",
       "      <td>Hugo Milner</td>\n",
       "      <td>3998.84</td>\n",
       "    </tr>\n",
       "  </tbody>\n",
       "</table>\n",
       "</div>"
      ],
      "text/plain": [
       "                raw_name   rating\n",
       "598            Jack Rowe  4345.03\n",
       "599      Andrew Butchart  4311.46\n",
       "600          Jamie Crowe  4277.90\n",
       "601         Tom Mortimer  4244.34\n",
       "602  William Battershill  4210.77\n",
       "603      Stuart McCallum  4177.21\n",
       "604           Jake Smith  4143.64\n",
       "605         Rory Leonard  4042.95\n",
       "606         Tom Anderson  4009.38\n",
       "518          Hugo Milner  3998.84"
      ]
     },
     "execution_count": 211,
     "metadata": {},
     "output_type": "execute_result"
    }
   ],
   "source": [
    "pd.set_option('precision', 2)\n",
    "complete[['raw_name','rating']].sort_values(\"rating\",ascending=False).head(10)"
   ]
  },
  {
   "cell_type": "code",
   "execution_count": 212,
   "metadata": {},
   "outputs": [
    {
     "data": {
      "text/html": [
       "<div>\n",
       "<style scoped>\n",
       "    .dataframe tbody tr th:only-of-type {\n",
       "        vertical-align: middle;\n",
       "    }\n",
       "\n",
       "    .dataframe tbody tr th {\n",
       "        vertical-align: top;\n",
       "    }\n",
       "\n",
       "    .dataframe thead th {\n",
       "        text-align: right;\n",
       "    }\n",
       "</style>\n",
       "<table border=\"1\" class=\"dataframe\">\n",
       "  <thead>\n",
       "    <tr style=\"text-align: right;\">\n",
       "      <th></th>\n",
       "      <th>raw_name</th>\n",
       "      <th>rating</th>\n",
       "      <th>rating_na18</th>\n",
       "      <th>rating_na19</th>\n",
       "      <th>rating_na20</th>\n",
       "      <th>rating_mk21</th>\n",
       "      <th>rating_li21</th>\n",
       "    </tr>\n",
       "  </thead>\n",
       "  <tbody>\n",
       "    <tr>\n",
       "      <th>53</th>\n",
       "      <td>Phillip Crout</td>\n",
       "      <td>2453.79</td>\n",
       "      <td>2235.0</td>\n",
       "      <td>2443.47</td>\n",
       "      <td>2075.2</td>\n",
       "      <td>NaN</td>\n",
       "      <td>2700.37</td>\n",
       "    </tr>\n",
       "  </tbody>\n",
       "</table>\n",
       "</div>"
      ],
      "text/plain": [
       "         raw_name   rating  rating_na18  rating_na19  rating_na20  \\\n",
       "53  Phillip Crout  2453.79       2235.0      2443.47       2075.2   \n",
       "\n",
       "    rating_mk21  rating_li21  \n",
       "53          NaN      2700.37  "
      ]
     },
     "execution_count": 212,
     "metadata": {},
     "output_type": "execute_result"
    }
   ],
   "source": [
    "complete[complete.raw_name=='Phillip Crout']"
   ]
  }
 ],
 "metadata": {
  "kernelspec": {
   "display_name": "Python 3",
   "language": "python",
   "name": "python3"
  },
  "language_info": {
   "codemirror_mode": {
    "name": "ipython",
    "version": 3
   },
   "file_extension": ".py",
   "mimetype": "text/x-python",
   "name": "python",
   "nbconvert_exporter": "python",
   "pygments_lexer": "ipython3",
   "version": "3.8.2"
  }
 },
 "nbformat": 4,
 "nbformat_minor": 4
}
