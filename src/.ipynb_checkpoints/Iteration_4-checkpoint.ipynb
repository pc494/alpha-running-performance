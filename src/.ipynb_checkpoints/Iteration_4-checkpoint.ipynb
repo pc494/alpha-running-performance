{
 "cells": [
  {
   "cell_type": "code",
   "execution_count": 197,
   "metadata": {},
   "outputs": [],
   "source": [
    "import pandas as pd\n",
    "from matplotlib import pyplot as plt\n",
    "import numpy as np"
   ]
  },
  {
   "cell_type": "code",
   "execution_count": 198,
   "metadata": {},
   "outputs": [],
   "source": [
    "national_18 = pd.read_csv('../data/National_XC_2018.csv')\n",
    "national_19 = pd.read_csv('../data/National_XC_2019.csv')\n",
    "national_20 = pd.read_csv('../data/National_XC_2020.csv')"
   ]
  },
  {
   "cell_type": "code",
   "execution_count": 199,
   "metadata": {},
   "outputs": [],
   "source": [
    "national_18 = national_18.drop(columns='raw_time')\n",
    "national_19 = national_19.drop(columns='raw_time')\n",
    "national_20 = national_20.drop(columns='raw_time')\n",
    "complete =  pd.merge(national_18,national_19,how='outer',on='raw_name',suffixes=('_na18','_na19'))\n",
    "complete =  pd.merge(complete,national_20,how='outer',on='raw_name')\n",
    "complete.rename(columns = {'position':'position_na20'}, inplace = True)"
   ]
  },
  {
   "cell_type": "code",
   "execution_count": 200,
   "metadata": {},
   "outputs": [
    {
     "data": {
      "text/html": [
       "<div>\n",
       "<style scoped>\n",
       "    .dataframe tbody tr th:only-of-type {\n",
       "        vertical-align: middle;\n",
       "    }\n",
       "\n",
       "    .dataframe tbody tr th {\n",
       "        vertical-align: top;\n",
       "    }\n",
       "\n",
       "    .dataframe thead th {\n",
       "        text-align: right;\n",
       "    }\n",
       "</style>\n",
       "<table border=\"1\" class=\"dataframe\">\n",
       "  <thead>\n",
       "    <tr style=\"text-align: right;\">\n",
       "      <th></th>\n",
       "      <th>position_na18</th>\n",
       "      <th>raw_name</th>\n",
       "      <th>position_na19</th>\n",
       "      <th>position_na20</th>\n",
       "    </tr>\n",
       "  </thead>\n",
       "  <tbody>\n",
       "    <tr>\n",
       "      <th>0</th>\n",
       "      <td>1.0</td>\n",
       "      <td>Adam Hickey</td>\n",
       "      <td>5.0</td>\n",
       "      <td>4.0</td>\n",
       "    </tr>\n",
       "    <tr>\n",
       "      <th>1</th>\n",
       "      <td>2.0</td>\n",
       "      <td>Andy Coley-Maud</td>\n",
       "      <td>NaN</td>\n",
       "      <td>NaN</td>\n",
       "    </tr>\n",
       "    <tr>\n",
       "      <th>2</th>\n",
       "      <td>3.0</td>\n",
       "      <td>John Gilbert</td>\n",
       "      <td>NaN</td>\n",
       "      <td>15.0</td>\n",
       "    </tr>\n",
       "  </tbody>\n",
       "</table>\n",
       "</div>"
      ],
      "text/plain": [
       "   position_na18         raw_name  position_na19  position_na20\n",
       "0            1.0      Adam Hickey            5.0            4.0\n",
       "1            2.0  Andy Coley-Maud            NaN            NaN\n",
       "2            3.0     John Gilbert            NaN           15.0"
      ]
     },
     "execution_count": 200,
     "metadata": {},
     "output_type": "execute_result"
    }
   ],
   "source": [
    "complete.head(3)"
   ]
  },
  {
   "cell_type": "code",
   "execution_count": 201,
   "metadata": {},
   "outputs": [
    {
     "data": {
      "text/html": [
       "<div>\n",
       "<style scoped>\n",
       "    .dataframe tbody tr th:only-of-type {\n",
       "        vertical-align: middle;\n",
       "    }\n",
       "\n",
       "    .dataframe tbody tr th {\n",
       "        vertical-align: top;\n",
       "    }\n",
       "\n",
       "    .dataframe thead th {\n",
       "        text-align: right;\n",
       "    }\n",
       "</style>\n",
       "<table border=\"1\" class=\"dataframe\">\n",
       "  <thead>\n",
       "    <tr style=\"text-align: right;\">\n",
       "      <th></th>\n",
       "      <th>raw_name</th>\n",
       "      <th>position_na18</th>\n",
       "      <th>position_na19</th>\n",
       "      <th>position_na20</th>\n",
       "    </tr>\n",
       "  </thead>\n",
       "  <tbody>\n",
       "    <tr>\n",
       "      <th>0</th>\n",
       "      <td>Adam Hickey</td>\n",
       "      <td>1.0</td>\n",
       "      <td>5.0</td>\n",
       "      <td>4.0</td>\n",
       "    </tr>\n",
       "    <tr>\n",
       "      <th>1</th>\n",
       "      <td>Andy Coley-Maud</td>\n",
       "      <td>2.0</td>\n",
       "      <td>NaN</td>\n",
       "      <td>NaN</td>\n",
       "    </tr>\n",
       "    <tr>\n",
       "      <th>2</th>\n",
       "      <td>John Gilbert</td>\n",
       "      <td>3.0</td>\n",
       "      <td>NaN</td>\n",
       "      <td>15.0</td>\n",
       "    </tr>\n",
       "  </tbody>\n",
       "</table>\n",
       "</div>"
      ],
      "text/plain": [
       "          raw_name  position_na18  position_na19  position_na20\n",
       "0      Adam Hickey            1.0            5.0            4.0\n",
       "1  Andy Coley-Maud            2.0            NaN            NaN\n",
       "2     John Gilbert            3.0            NaN           15.0"
      ]
     },
     "execution_count": 201,
     "metadata": {},
     "output_type": "execute_result"
    }
   ],
   "source": [
    "raw_name = complete.pop('raw_name')\n",
    "complete.insert(0,\"raw_name\",raw_name)\n",
    "complete.head(3)"
   ]
  },
  {
   "cell_type": "code",
   "execution_count": 202,
   "metadata": {},
   "outputs": [],
   "source": [
    "# initialize ratings\n",
    "complete[\"rating_na18\"] = 2500 - (complete.position_na18 - 1) * 5\n",
    "complete = complete.drop(columns='position_na18')"
   ]
  },
  {
   "cell_type": "markdown",
   "metadata": {},
   "source": [
    "# include national 2019"
   ]
  },
  {
   "cell_type": "code",
   "execution_count": 203,
   "metadata": {},
   "outputs": [
    {
     "name": "stderr",
     "output_type": "stream",
     "text": [
      "<ipython-input-203-0f8489b40a0d>:2: UserWarning: Boolean Series key will be reindexed to match DataFrame index.\n",
      "  join_1819 = join_1819[~complete.position_na19.isnull()]\n"
     ]
    }
   ],
   "source": [
    "join_1819 = complete[~complete.rating_na18.isnull()] \n",
    "join_1819 = join_1819[~complete.position_na19.isnull()]"
   ]
  },
  {
   "cell_type": "code",
   "execution_count": 204,
   "metadata": {},
   "outputs": [],
   "source": [
    "from scipy.stats import linregress"
   ]
  },
  {
   "cell_type": "code",
   "execution_count": 205,
   "metadata": {},
   "outputs": [
    {
     "name": "stdout",
     "output_type": "stream",
     "text": [
      "-0.13804466454443065\n",
      "385.3085724138367\n",
      "-7.244032236234259\n"
     ]
    }
   ],
   "source": [
    "sol = linregress(join_1819.rating_na18,join_1819.position_na19)\n",
    "m = sol.slope\n",
    "c = sol.intercept\n",
    "print(m)\n",
    "print(c)\n",
    "print(1/m)"
   ]
  },
  {
   "cell_type": "code",
   "execution_count": 206,
   "metadata": {},
   "outputs": [],
   "source": [
    "#y = m*x + c\n",
    "#y-c/m"
   ]
  },
  {
   "cell_type": "code",
   "execution_count": 207,
   "metadata": {},
   "outputs": [
    {
     "data": {
      "text/plain": [
       "[<matplotlib.lines.Line2D at 0x7f4f207b6700>]"
      ]
     },
     "execution_count": 207,
     "metadata": {},
     "output_type": "execute_result"
    },
    {
     "data": {
      "image/png": "[encoded data removed]",
      "text/plain": [
       "<Figure size 432x288 with 1 Axes>"
      ]
     },
     "metadata": {
      "needs_background": "light"
     },
     "output_type": "display_data"
    }
   ],
   "source": [
    "complete[\"rating_na19\"] = ((complete.position_na19)-c)/m\n",
    "plt.scatter(join_1819.rating_na18,join_1819.position_na19)\n",
    "plt.plot(np.linspace(1250,2750),np.linspace(1250,2750)*m+c)"
   ]
  },
  {
   "cell_type": "code",
   "execution_count": 208,
   "metadata": {},
   "outputs": [],
   "source": [
    "complete = complete.drop(columns='position_na19')"
   ]
  },
  {
   "cell_type": "code",
   "execution_count": 209,
   "metadata": {},
   "outputs": [
    {
     "data": {
      "text/html": [
       "<div>\n",
       "<style scoped>\n",
       "    .dataframe tbody tr th:only-of-type {\n",
       "        vertical-align: middle;\n",
       "    }\n",
       "\n",
       "    .dataframe tbody tr th {\n",
       "        vertical-align: top;\n",
       "    }\n",
       "\n",
       "    .dataframe thead th {\n",
       "        text-align: right;\n",
       "    }\n",
       "</style>\n",
       "<table border=\"1\" class=\"dataframe\">\n",
       "  <thead>\n",
       "    <tr style=\"text-align: right;\">\n",
       "      <th></th>\n",
       "      <th>raw_name</th>\n",
       "      <th>position_na20</th>\n",
       "      <th>rating_na18</th>\n",
       "      <th>rating_na19</th>\n",
       "    </tr>\n",
       "  </thead>\n",
       "  <tbody>\n",
       "    <tr>\n",
       "      <th>0</th>\n",
       "      <td>Adam Hickey</td>\n",
       "      <td>4.0</td>\n",
       "      <td>2500.0</td>\n",
       "      <td>2754.967558</td>\n",
       "    </tr>\n",
       "    <tr>\n",
       "      <th>1</th>\n",
       "      <td>Andy Coley-Maud</td>\n",
       "      <td>NaN</td>\n",
       "      <td>2495.0</td>\n",
       "      <td>NaN</td>\n",
       "    </tr>\n",
       "    <tr>\n",
       "      <th>2</th>\n",
       "      <td>John Gilbert</td>\n",
       "      <td>15.0</td>\n",
       "      <td>2490.0</td>\n",
       "      <td>NaN</td>\n",
       "    </tr>\n",
       "    <tr>\n",
       "      <th>3</th>\n",
       "      <td>Peter Huck</td>\n",
       "      <td>NaN</td>\n",
       "      <td>2485.0</td>\n",
       "      <td>NaN</td>\n",
       "    </tr>\n",
       "    <tr>\n",
       "      <th>4</th>\n",
       "      <td>Christopher Olley</td>\n",
       "      <td>NaN</td>\n",
       "      <td>2480.0</td>\n",
       "      <td>NaN</td>\n",
       "    </tr>\n",
       "  </tbody>\n",
       "</table>\n",
       "</div>"
      ],
      "text/plain": [
       "            raw_name  position_na20  rating_na18  rating_na19\n",
       "0        Adam Hickey            4.0       2500.0  2754.967558\n",
       "1    Andy Coley-Maud            NaN       2495.0          NaN\n",
       "2       John Gilbert           15.0       2490.0          NaN\n",
       "3         Peter Huck            NaN       2485.0          NaN\n",
       "4  Christopher Olley            NaN       2480.0          NaN"
      ]
     },
     "execution_count": 209,
     "metadata": {},
     "output_type": "execute_result"
    }
   ],
   "source": [
    "complete.head(5)"
   ]
  },
  {
   "cell_type": "markdown",
   "metadata": {},
   "source": [
    "# include national 20"
   ]
  },
  {
   "cell_type": "code",
   "execution_count": 210,
   "metadata": {},
   "outputs": [],
   "source": [
    "def get_rating(df,input_data_col,new_result_col):\n",
    "    df = df[~df[input_data_col].isnull()&~df[new_result_col].isnull()]\n",
    "    plt.scatter(df[input_data_col],df[new_result_col])\n",
    "    \n",
    "    sol = linregress(df[input_data_col],df[new_result_col])\n",
    "    m = sol.slope\n",
    "    c = sol.intercept\n",
    "    plt.plot(np.linspace(1250,2750),np.linspace(1250,2750)*m+c)\n",
    "    return ((df[new_result_col])-c)/m"
   ]
  },
  {
   "cell_type": "code",
   "execution_count": 211,
   "metadata": {},
   "outputs": [
    {
     "data": {
      "image/png": "[encoded data removed]",
      "text/plain": [
       "<Figure size 432x288 with 1 Axes>"
      ]
     },
     "metadata": {
      "needs_background": "light"
     },
     "output_type": "display_data"
    }
   ],
   "source": [
    "complete['rating_na20'] = get_rating(complete,'rating_na19','position_na20')"
   ]
  },
  {
   "cell_type": "code",
   "execution_count": 212,
   "metadata": {},
   "outputs": [],
   "source": [
    "complete = complete.drop(columns='position_na20')"
   ]
  },
  {
   "cell_type": "markdown",
   "metadata": {},
   "source": [
    "## Phase 2, combo results for the big COVID jump"
   ]
  },
  {
   "cell_type": "code",
   "execution_count": 220,
   "metadata": {},
   "outputs": [
    {
     "data": {
      "text/plain": [
       "['rating_na18', 'rating_na19', 'rating_na20']"
      ]
     },
     "execution_count": 220,
     "metadata": {},
     "output_type": "execute_result"
    }
   ],
   "source": [
    "list(complete.columns[1:])"
   ]
  },
  {
   "cell_type": "code",
   "execution_count": 228,
   "metadata": {},
   "outputs": [],
   "source": [
    "complete = complete.assign(avg=complete.loc[:, list(complete.columns[1:])].mean(axis=1))"
   ]
  },
  {
   "cell_type": "code",
   "execution_count": 229,
   "metadata": {},
   "outputs": [
    {
     "data": {
      "text/html": [
       "<div>\n",
       "<style scoped>\n",
       "    .dataframe tbody tr th:only-of-type {\n",
       "        vertical-align: middle;\n",
       "    }\n",
       "\n",
       "    .dataframe tbody tr th {\n",
       "        vertical-align: top;\n",
       "    }\n",
       "\n",
       "    .dataframe thead th {\n",
       "        text-align: right;\n",
       "    }\n",
       "</style>\n",
       "<table border=\"1\" class=\"dataframe\">\n",
       "  <thead>\n",
       "    <tr style=\"text-align: right;\">\n",
       "      <th></th>\n",
       "      <th>raw_name</th>\n",
       "      <th>rating_na18</th>\n",
       "      <th>rating_na19</th>\n",
       "      <th>rating_na20</th>\n",
       "      <th>avg</th>\n",
       "    </tr>\n",
       "  </thead>\n",
       "  <tbody>\n",
       "    <tr>\n",
       "      <th>0</th>\n",
       "      <td>Adam Hickey</td>\n",
       "      <td>2500.0</td>\n",
       "      <td>2754.967558</td>\n",
       "      <td>3203.889302</td>\n",
       "      <td>2819.618954</td>\n",
       "    </tr>\n",
       "    <tr>\n",
       "      <th>1</th>\n",
       "      <td>Andy Coley-Maud</td>\n",
       "      <td>2495.0</td>\n",
       "      <td>NaN</td>\n",
       "      <td>NaN</td>\n",
       "      <td>2495.000000</td>\n",
       "    </tr>\n",
       "    <tr>\n",
       "      <th>2</th>\n",
       "      <td>John Gilbert</td>\n",
       "      <td>2490.0</td>\n",
       "      <td>NaN</td>\n",
       "      <td>NaN</td>\n",
       "      <td>2490.000000</td>\n",
       "    </tr>\n",
       "  </tbody>\n",
       "</table>\n",
       "</div>"
      ],
      "text/plain": [
       "          raw_name  rating_na18  rating_na19  rating_na20          avg\n",
       "0      Adam Hickey       2500.0  2754.967558  3203.889302  2819.618954\n",
       "1  Andy Coley-Maud       2495.0          NaN          NaN  2495.000000\n",
       "2     John Gilbert       2490.0          NaN          NaN  2490.000000"
      ]
     },
     "execution_count": 229,
     "metadata": {},
     "output_type": "execute_result"
    }
   ],
   "source": [
    "complete.head(3)"
   ]
  },
  {
   "cell_type": "code",
   "execution_count": 230,
   "metadata": {},
   "outputs": [
    {
     "data": {
      "text/html": [
       "<div>\n",
       "<style scoped>\n",
       "    .dataframe tbody tr th:only-of-type {\n",
       "        vertical-align: middle;\n",
       "    }\n",
       "\n",
       "    .dataframe tbody tr th {\n",
       "        vertical-align: top;\n",
       "    }\n",
       "\n",
       "    .dataframe thead th {\n",
       "        text-align: right;\n",
       "    }\n",
       "</style>\n",
       "<table border=\"1\" class=\"dataframe\">\n",
       "  <thead>\n",
       "    <tr style=\"text-align: right;\">\n",
       "      <th></th>\n",
       "      <th>raw_name</th>\n",
       "      <th>rating_na18</th>\n",
       "      <th>rating_na19</th>\n",
       "      <th>rating_na20</th>\n",
       "      <th>pre_covid_rating</th>\n",
       "    </tr>\n",
       "  </thead>\n",
       "  <tbody>\n",
       "    <tr>\n",
       "      <th>0</th>\n",
       "      <td>Adam Hickey</td>\n",
       "      <td>2500.0</td>\n",
       "      <td>2754.967558</td>\n",
       "      <td>3203.889302</td>\n",
       "      <td>2819.618954</td>\n",
       "    </tr>\n",
       "    <tr>\n",
       "      <th>1</th>\n",
       "      <td>Andy Coley-Maud</td>\n",
       "      <td>2495.0</td>\n",
       "      <td>NaN</td>\n",
       "      <td>NaN</td>\n",
       "      <td>2495.000000</td>\n",
       "    </tr>\n",
       "    <tr>\n",
       "      <th>2</th>\n",
       "      <td>John Gilbert</td>\n",
       "      <td>2490.0</td>\n",
       "      <td>NaN</td>\n",
       "      <td>NaN</td>\n",
       "      <td>2490.000000</td>\n",
       "    </tr>\n",
       "  </tbody>\n",
       "</table>\n",
       "</div>"
      ],
      "text/plain": [
       "          raw_name  rating_na18  rating_na19  rating_na20  pre_covid_rating\n",
       "0      Adam Hickey       2500.0  2754.967558  3203.889302       2819.618954\n",
       "1  Andy Coley-Maud       2495.0          NaN          NaN       2495.000000\n",
       "2     John Gilbert       2490.0          NaN          NaN       2490.000000"
      ]
     },
     "execution_count": 230,
     "metadata": {},
     "output_type": "execute_result"
    }
   ],
   "source": [
    "pcr = complete.pop('avg')\n",
    "#HARDCODE\n",
    "complete.insert(4,\"pre_covid_rating\",pcr)\n",
    "complete.head(3)"
   ]
  },
  {
   "cell_type": "markdown",
   "metadata": {},
   "source": [
    "## Post COIVD BAYBEE"
   ]
  },
  {
   "cell_type": "code",
   "execution_count": 231,
   "metadata": {},
   "outputs": [],
   "source": [
    "MK_21 = pd.read_csv('../data/MK_2021.csv')\n",
    "liverpool_21 = pd.read_csv('../data/Liverpool_2021.csv')\n",
    "MK_21 = MK_21.drop(columns='raw_time')\n",
    "liverpool_21 = liverpool_21.drop(columns='raw_time')"
   ]
  },
  {
   "cell_type": "code",
   "execution_count": 232,
   "metadata": {},
   "outputs": [],
   "source": [
    "complete =  pd.merge(complete,MK_21,how='outer',on='raw_name')\n",
    "complete.rename(columns = {'position':'position_mk21'}, inplace = True)\n",
    "complete =  pd.merge(complete,liverpool_21,how='outer',on='raw_name')\n",
    "complete.rename(columns = {'position':'position_li21'}, inplace = True)"
   ]
  },
  {
   "cell_type": "code",
   "execution_count": 233,
   "metadata": {},
   "outputs": [
    {
     "data": {
      "image/png": "[encoded data removed]",
      "text/plain": [
       "<Figure size 432x288 with 1 Axes>"
      ]
     },
     "metadata": {
      "needs_background": "light"
     },
     "output_type": "display_data"
    }
   ],
   "source": [
    "complete['rating_mk21'] = get_rating(complete,'pre_covid_rating','position_mk21')"
   ]
  },
  {
   "cell_type": "code",
   "execution_count": 237,
   "metadata": {},
   "outputs": [
    {
     "data": {
      "image/png": "[encoded data removed]",
      "text/plain": [
       "<Figure size 432x288 with 1 Axes>"
      ]
     },
     "metadata": {
      "needs_background": "light"
     },
     "output_type": "display_data"
    }
   ],
   "source": [
    "complete['rating_li21'] = get_rating(complete,'pre_covid_rating','position_li21')"
   ]
  },
  {
   "cell_type": "code",
   "execution_count": 238,
   "metadata": {},
   "outputs": [],
   "source": [
    "complete = complete.drop(columns='position_mk21')"
   ]
  },
  {
   "cell_type": "code",
   "execution_count": 243,
   "metadata": {},
   "outputs": [
    {
     "data": {
      "text/html": [
       "<div>\n",
       "<style scoped>\n",
       "    .dataframe tbody tr th:only-of-type {\n",
       "        vertical-align: middle;\n",
       "    }\n",
       "\n",
       "    .dataframe tbody tr th {\n",
       "        vertical-align: top;\n",
       "    }\n",
       "\n",
       "    .dataframe thead th {\n",
       "        text-align: right;\n",
       "    }\n",
       "</style>\n",
       "<table border=\"1\" class=\"dataframe\">\n",
       "  <thead>\n",
       "    <tr style=\"text-align: right;\">\n",
       "      <th></th>\n",
       "      <th>raw_name</th>\n",
       "      <th>pre_covid_rating</th>\n",
       "      <th>position_li21</th>\n",
       "      <th>rating_li21</th>\n",
       "    </tr>\n",
       "  </thead>\n",
       "  <tbody>\n",
       "    <tr>\n",
       "      <th>8</th>\n",
       "      <td>William Christofi</td>\n",
       "      <td>2243.664055</td>\n",
       "      <td>118.0</td>\n",
       "      <td>795.908367</td>\n",
       "    </tr>\n",
       "    <tr>\n",
       "      <th>10</th>\n",
       "      <td>Calum Johnson</td>\n",
       "      <td>2450.000000</td>\n",
       "      <td>8.0</td>\n",
       "      <td>3941.285538</td>\n",
       "    </tr>\n",
       "    <tr>\n",
       "      <th>12</th>\n",
       "      <td>Richard Allen</td>\n",
       "      <td>2440.000000</td>\n",
       "      <td>24.0</td>\n",
       "      <td>3483.776132</td>\n",
       "    </tr>\n",
       "    <tr>\n",
       "      <th>15</th>\n",
       "      <td>Jack Millar</td>\n",
       "      <td>2706.125773</td>\n",
       "      <td>42.0</td>\n",
       "      <td>2969.078049</td>\n",
       "    </tr>\n",
       "    <tr>\n",
       "      <th>26</th>\n",
       "      <td>Robert Warner</td>\n",
       "      <td>2550.387456</td>\n",
       "      <td>72.0</td>\n",
       "      <td>2111.247911</td>\n",
       "    </tr>\n",
       "  </tbody>\n",
       "</table>\n",
       "</div>"
      ],
      "text/plain": [
       "             raw_name  pre_covid_rating  position_li21  rating_li21\n",
       "8   William Christofi       2243.664055          118.0   795.908367\n",
       "10      Calum Johnson       2450.000000            8.0  3941.285538\n",
       "12      Richard Allen       2440.000000           24.0  3483.776132\n",
       "15        Jack Millar       2706.125773           42.0  2969.078049\n",
       "26      Robert Warner       2550.387456           72.0  2111.247911"
      ]
     },
     "execution_count": 243,
     "metadata": {},
     "output_type": "execute_result"
    }
   ],
   "source": [
    "complete[['raw_name','pre_covid_rating','position_li21','rating_li21']][~complete.rating_li21.isnull()].head(5)"
   ]
  },
  {
   "cell_type": "code",
   "execution_count": 249,
   "metadata": {},
   "outputs": [
    {
     "data": {
      "text/html": [
       "<div>\n",
       "<style scoped>\n",
       "    .dataframe tbody tr th:only-of-type {\n",
       "        vertical-align: middle;\n",
       "    }\n",
       "\n",
       "    .dataframe tbody tr th {\n",
       "        vertical-align: top;\n",
       "    }\n",
       "\n",
       "    .dataframe thead th {\n",
       "        text-align: right;\n",
       "    }\n",
       "</style>\n",
       "<table border=\"1\" class=\"dataframe\">\n",
       "  <thead>\n",
       "    <tr style=\"text-align: right;\">\n",
       "      <th></th>\n",
       "      <th>raw_name</th>\n",
       "      <th>pre_covid_rating</th>\n",
       "    </tr>\n",
       "  </thead>\n",
       "  <tbody>\n",
       "    <tr>\n",
       "      <th>255</th>\n",
       "      <td>Joe Steward</td>\n",
       "      <td>2977</td>\n",
       "    </tr>\n",
       "    <tr>\n",
       "      <th>257</th>\n",
       "      <td>Linton Taylor</td>\n",
       "      <td>2960</td>\n",
       "    </tr>\n",
       "    <tr>\n",
       "      <th>254</th>\n",
       "      <td>Omar Ahmed</td>\n",
       "      <td>2910</td>\n",
       "    </tr>\n",
       "    <tr>\n",
       "      <th>258</th>\n",
       "      <td>Antonio Silva</td>\n",
       "      <td>2873</td>\n",
       "    </tr>\n",
       "    <tr>\n",
       "      <th>0</th>\n",
       "      <td>Adam Hickey</td>\n",
       "      <td>2820</td>\n",
       "    </tr>\n",
       "    <tr>\n",
       "      <th>7</th>\n",
       "      <td>Carl Avery</td>\n",
       "      <td>2809</td>\n",
       "    </tr>\n",
       "    <tr>\n",
       "      <th>250</th>\n",
       "      <td>Mahamed Mahamed</td>\n",
       "      <td>2784</td>\n",
       "    </tr>\n",
       "    <tr>\n",
       "      <th>251</th>\n",
       "      <td>Emile Cairess</td>\n",
       "      <td>2777</td>\n",
       "    </tr>\n",
       "    <tr>\n",
       "      <th>261</th>\n",
       "      <td>Peter Le Grice</td>\n",
       "      <td>2763</td>\n",
       "    </tr>\n",
       "    <tr>\n",
       "      <th>252</th>\n",
       "      <td>John Millar</td>\n",
       "      <td>2762</td>\n",
       "    </tr>\n",
       "    <tr>\n",
       "      <th>253</th>\n",
       "      <td>Alex Brecker</td>\n",
       "      <td>2740</td>\n",
       "    </tr>\n",
       "    <tr>\n",
       "      <th>289</th>\n",
       "      <td>Zak Seddon</td>\n",
       "      <td>2719</td>\n",
       "    </tr>\n",
       "    <tr>\n",
       "      <th>256</th>\n",
       "      <td>Nigel Martin</td>\n",
       "      <td>2712</td>\n",
       "    </tr>\n",
       "    <tr>\n",
       "      <th>15</th>\n",
       "      <td>Jack Millar</td>\n",
       "      <td>2706</td>\n",
       "    </tr>\n",
       "    <tr>\n",
       "      <th>17</th>\n",
       "      <td>Ben Cole</td>\n",
       "      <td>2694</td>\n",
       "    </tr>\n",
       "    <tr>\n",
       "      <th>61</th>\n",
       "      <td>Graham Rush</td>\n",
       "      <td>2690</td>\n",
       "    </tr>\n",
       "    <tr>\n",
       "      <th>277</th>\n",
       "      <td>Jonathan Escalante-Phillips</td>\n",
       "      <td>2685</td>\n",
       "    </tr>\n",
       "    <tr>\n",
       "      <th>260</th>\n",
       "      <td>Henry Pearce</td>\n",
       "      <td>2668</td>\n",
       "    </tr>\n",
       "    <tr>\n",
       "      <th>264</th>\n",
       "      <td>Jonathan Thewlis</td>\n",
       "      <td>2639</td>\n",
       "    </tr>\n",
       "    <tr>\n",
       "      <th>32</th>\n",
       "      <td>Maximilian Nicholls</td>\n",
       "      <td>2628</td>\n",
       "    </tr>\n",
       "    <tr>\n",
       "      <th>20</th>\n",
       "      <td>Edward Shepherd</td>\n",
       "      <td>2620</td>\n",
       "    </tr>\n",
       "    <tr>\n",
       "      <th>265</th>\n",
       "      <td>Edgars Sumskis</td>\n",
       "      <td>2611</td>\n",
       "    </tr>\n",
       "    <tr>\n",
       "      <th>266</th>\n",
       "      <td>Philip Sesemann</td>\n",
       "      <td>2610</td>\n",
       "    </tr>\n",
       "    <tr>\n",
       "      <th>262</th>\n",
       "      <td>Corey De'Ath</td>\n",
       "      <td>2608</td>\n",
       "    </tr>\n",
       "    <tr>\n",
       "      <th>268</th>\n",
       "      <td>Noah Hurton</td>\n",
       "      <td>2596</td>\n",
       "    </tr>\n",
       "  </tbody>\n",
       "</table>\n",
       "</div>"
      ],
      "text/plain": [
       "                        raw_name  pre_covid_rating\n",
       "255                  Joe Steward              2977\n",
       "257                Linton Taylor              2960\n",
       "254                   Omar Ahmed              2910\n",
       "258                Antonio Silva              2873\n",
       "0                    Adam Hickey              2820\n",
       "7                     Carl Avery              2809\n",
       "250              Mahamed Mahamed              2784\n",
       "251                Emile Cairess              2777\n",
       "261               Peter Le Grice              2763\n",
       "252                  John Millar              2762\n",
       "253                 Alex Brecker              2740\n",
       "289                   Zak Seddon              2719\n",
       "256                 Nigel Martin              2712\n",
       "15                   Jack Millar              2706\n",
       "17                      Ben Cole              2694\n",
       "61                   Graham Rush              2690\n",
       "277  Jonathan Escalante-Phillips              2685\n",
       "260                 Henry Pearce              2668\n",
       "264             Jonathan Thewlis              2639\n",
       "32           Maximilian Nicholls              2628\n",
       "20               Edward Shepherd              2620\n",
       "265               Edgars Sumskis              2611\n",
       "266              Philip Sesemann              2610\n",
       "262                 Corey De'Ath              2608\n",
       "268                  Noah Hurton              2596"
      ]
     },
     "execution_count": 249,
     "metadata": {},
     "output_type": "execute_result"
    }
   ],
   "source": [
    "pd.set_option('precision', 0)\n",
    "complete[['raw_name','pre_covid_rating']].sort_values(\"pre_covid_rating\",ascending=False).head(25)"
   ]
  }
 ],
 "metadata": {
  "kernelspec": {
   "display_name": "Python 3",
   "language": "python",
   "name": "python3"
  },
  "language_info": {
   "codemirror_mode": {
    "name": "ipython",
    "version": 3
   },
   "file_extension": ".py",
   "mimetype": "text/x-python",
   "name": "python",
   "nbconvert_exporter": "python",
   "pygments_lexer": "ipython3",
   "version": "3.8.2"
  }
 },
 "nbformat": 4,
 "nbformat_minor": 4
}
